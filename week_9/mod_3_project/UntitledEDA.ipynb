{
 "cells": [
  {
   "cell_type": "code",
   "execution_count": 1,
   "metadata": {},
   "outputs": [],
   "source": [
    "import pandas as pd\n",
    "pd.set_option('display.max_rows', 500)\n",
    "pd.set_option('display.max_columns', 500)\n",
    "from sklearn.model_selection import train_test_split\n",
    "from sklearn.preprocessing import StandardScaler \n",
    "from sklearn.preprocessing import MinMaxScaler\n",
    "from sklearn.metrics import mean_squared_error, accuracy_score, f1_score, roc_auc_score\n",
    "import itertools\n",
    "import seaborn as sns\n",
    "from sklearn.linear_model import LogisticRegression\n",
    "from sklearn.metrics import precision_score\n",
    "from sklearn.metrics import recall_score\n",
    "from sklearn.ensemble import BaggingClassifier \n",
    "import xgboost as xgb\n",
    "from sklearn.ensemble import RandomForestClassifier \n",
    "from sklearn.model_selection import GridSearchCV\n",
    "from sklearn.ensemble import ExtraTreesClassifier\n",
    "import matplotlib.pyplot as plt\n",
    "from sklearn.preprocessing import LabelEncoder\n",
    "from sklearn.preprocessing import OrdinalEncoder"
   ]
  },
  {
   "cell_type": "code",
   "execution_count": null,
   "metadata": {},
   "outputs": [],
   "source": []
  },
  {
   "cell_type": "code",
   "execution_count": null,
   "metadata": {},
   "outputs": [],
   "source": []
  },
  {
   "cell_type": "code",
   "execution_count": 3,
   "metadata": {},
   "outputs": [],
   "source": [
    "Label = pd.read_csv('0bf8bc6e-30d0-4c50-956a-603fc693d966.csv')\n",
    "Label\n",
    "Training = pd.read_csv(\"4910797b-ee55-40a7-8668-10efd5c1b960.csv\")\n",
    "df = pd.merge(Training, Label, on='id')\n",
    "Test = pd.read_csv('702ddfc5-68cd-4d1d-a0de-f5f566f76d91.csv')\n",
    "df.dropna(inplace=True)\n",
    "lb_make = LabelEncoder()\n",
    "df[\"status_group_code\"] = lb_make.fit_transform(df[\"status_group\"])"
   ]
  },
  {
   "cell_type": "code",
   "execution_count": 4,
   "metadata": {},
   "outputs": [],
   "source": [
    "df = df.drop(columns= ['id','num_private','funder','extraction_type_group','extraction_type_class','date_recorded','wpt_name','subvillage','lga','ward','recorded_by','scheme_management','management_group','payment_type','source_type','source_class','waterpoint_type_group','management'],axis=1)\n"
   ]
  },
  {
   "cell_type": "code",
   "execution_count": 5,
   "metadata": {},
   "outputs": [],
   "source": [
    "C = df[['public_meeting','permit']].astype('bool')\n",
    "df[['public_meeting','permit']] = C"
   ]
  },
  {
   "cell_type": "code",
   "execution_count": 6,
   "metadata": {},
   "outputs": [],
   "source": [
    "df['years_operational'] = df['construction_year'].apply(lambda x: 2020 - x)\n"
   ]
  },
  {
   "cell_type": "code",
   "execution_count": 7,
   "metadata": {},
   "outputs": [],
   "source": [
    "df['years_operational'].replace(to_replace=2020,value=100,inplace=True)\n"
   ]
  },
  {
   "cell_type": "code",
   "execution_count": 8,
   "metadata": {},
   "outputs": [],
   "source": [
    "df.drop('construction_year',axis = 1)\n",
    "dummies = pd.get_dummies(df,columns=['basin','region','scheme_name','quality_group','quantity_group','installer','payment','water_quality','quantity','source', 'waterpoint_type','extraction_type'])\n"
   ]
  },
  {
   "cell_type": "code",
   "execution_count": 35,
   "metadata": {},
   "outputs": [
    {
     "data": {
      "text/plain": [
       "status_group             amount_tsh\n",
       "functional               0.0           7374\n",
       "                         2.0             13\n",
       "                         5.0            328\n",
       "                         6.0            172\n",
       "                         7.0             54\n",
       "                         10.0           552\n",
       "                         15.0            12\n",
       "                         20.0           700\n",
       "                         25.0           175\n",
       "                         30.0           366\n",
       "                         33.0            20\n",
       "                         35.0             6\n",
       "                         40.0            39\n",
       "                         50.0           980\n",
       "                         53.0             1\n",
       "                         60.0             6\n",
       "                         70.0             6\n",
       "                         100.0          249\n",
       "                         150.0            3\n",
       "                         200.0          523\n",
       "                         220.0            1\n",
       "                         250.0          270\n",
       "                         300.0          258\n",
       "                         400.0           24\n",
       "                         450.0           37\n",
       "                         500.0         1457\n",
       "                         520.0            1\n",
       "                         600.0           62\n",
       "                         700.0            1\n",
       "                         750.0           37\n",
       "                         800.0            2\n",
       "                         900.0            1\n",
       "                         1000.0         699\n",
       "                         1200.0         175\n",
       "                         1300.0          10\n",
       "                         1400.0           1\n",
       "                         1500.0         112\n",
       "                         2000.0         289\n",
       "                         2200.0          31\n",
       "                         2400.0          83\n",
       "                         2500.0          51\n",
       "                         2800.0          13\n",
       "                         3000.0         158\n",
       "                         3500.0           1\n",
       "                         3600.0          22\n",
       "                         4000.0          92\n",
       "                         4700.0          22\n",
       "                         5000.0         239\n",
       "                         5400.0           1\n",
       "                         5500.0           1\n",
       "                         6000.0          82\n",
       "                         6300.0           1\n",
       "                         6500.0           9\n",
       "                         7000.0           2\n",
       "                         7200.0          12\n",
       "                         7500.0           8\n",
       "                         8000.0          46\n",
       "                         8500.0           1\n",
       "                         10000.0         31\n",
       "                         11000.0          1\n",
       "                         12000.0         43\n",
       "                         14000.0          1\n",
       "                         15000.0          9\n",
       "                         16000.0          2\n",
       "                         16300.0          2\n",
       "                         18000.0          3\n",
       "                         20000.0         39\n",
       "                         25000.0          8\n",
       "                         26000.0          2\n",
       "                         30000.0          1\n",
       "                         38000.0          1\n",
       "                         40000.0          7\n",
       "                         45000.0          1\n",
       "                         50000.0          2\n",
       "                         70000.0          1\n",
       "                         100000.0         1\n",
       "                         117000.0         6\n",
       "                         138000.0         1\n",
       "                         170000.0         1\n",
       "                         200000.0         1\n",
       "                         250000.0         1\n",
       "functional needs repair  0.0           1014\n",
       "                         6.0              3\n",
       "                         10.0            13\n",
       "                         20.0            39\n",
       "                         25.0            11\n",
       "                         30.0            24\n",
       "                         50.0            74\n",
       "                         70.0             2\n",
       "                         100.0           46\n",
       "                         200.0          104\n",
       "                         250.0          147\n",
       "                         300.0           56\n",
       "                         500.0          233\n",
       "                         600.0           72\n",
       "                         700.0            4\n",
       "                         750.0            9\n",
       "                         1000.0          53\n",
       "                         1200.0          12\n",
       "                         1500.0           6\n",
       "                         2000.0           8\n",
       "                         2400.0           3\n",
       "                         2500.0           2\n",
       "                         3000.0          29\n",
       "                         3600.0          10\n",
       "                         4000.0           8\n",
       "                         4500.0           1\n",
       "                         5000.0          19\n",
       "                         6000.0           2\n",
       "                         8000.0           4\n",
       "                         12000.0          3\n",
       "                         25000.0          1\n",
       "                         50000.0          1\n",
       "non functional           0.0           7291\n",
       "                         0.2              2\n",
       "                         5.0             45\n",
       "                         6.0             13\n",
       "                         7.0             15\n",
       "                         10.0           124\n",
       "                         15.0             1\n",
       "                         20.0           288\n",
       "                         25.0            36\n",
       "                         30.0           133\n",
       "                         35.0             2\n",
       "                         40.0            10\n",
       "                         50.0           486\n",
       "                         60.0             1\n",
       "                         70.0            14\n",
       "                         100.0          109\n",
       "                         150.0           14\n",
       "                         200.0          186\n",
       "                         250.0           98\n",
       "                         300.0           84\n",
       "                         400.0            6\n",
       "                         450.0            5\n",
       "                         500.0          303\n",
       "                         520.0            1\n",
       "                         550.0            3\n",
       "                         600.0           22\n",
       "                         700.0           17\n",
       "                         750.0           12\n",
       "                         1000.0         134\n",
       "                         1200.0          17\n",
       "                         1500.0          16\n",
       "                         2000.0          57\n",
       "                         2400.0          36\n",
       "                         2500.0          19\n",
       "                         2800.0           1\n",
       "                         3000.0          38\n",
       "                         3600.0           6\n",
       "                         4000.0          21\n",
       "                         5000.0          27\n",
       "                         6000.0          26\n",
       "                         7000.0           1\n",
       "                         8000.0           7\n",
       "                         10000.0          6\n",
       "                         11000.0          1\n",
       "                         12000.0          4\n",
       "                         20000.0          3\n",
       "                         30000.0          1\n",
       "                         60000.0          1\n",
       "                         117000.0         1\n",
       "Name: amount_tsh, dtype: int64"
      ]
     },
     "execution_count": 35,
     "metadata": {},
     "output_type": "execute_result"
    }
   ],
   "source": [
    "dummies.groupby(['status_group','amount_tsh'])['amount_tsh'].count()"
   ]
  },
  {
   "cell_type": "code",
   "execution_count": 38,
   "metadata": {},
   "outputs": [
    {
     "ename": "NameError",
     "evalue": "name 'planets' is not defined",
     "output_type": "error",
     "traceback": [
      "\u001b[0;31m---------------------------------------------------------------------------\u001b[0m",
      "\u001b[0;31mNameError\u001b[0m                                 Traceback (most recent call last)",
      "\u001b[0;32m<ipython-input-38-19b9050012c3>\u001b[0m in \u001b[0;36m<module>\u001b[0;34m\u001b[0m\n\u001b[1;32m     13\u001b[0m \u001b[0;34m\u001b[0m\u001b[0m\n\u001b[1;32m     14\u001b[0m \u001b[0;31m# Add in points to show each observation\u001b[0m\u001b[0;34m\u001b[0m\u001b[0;34m\u001b[0m\u001b[0;34m\u001b[0m\u001b[0m\n\u001b[0;32m---> 15\u001b[0;31m sns.swarmplot(x=\"distance\", y=\"method\", data=planets,\n\u001b[0m\u001b[1;32m     16\u001b[0m               size=2, color=\".3\", linewidth=0)\n\u001b[1;32m     17\u001b[0m \u001b[0;34m\u001b[0m\u001b[0m\n",
      "\u001b[0;31mNameError\u001b[0m: name 'planets' is not defined"
     ]
    },
    {
     "data": {
      "image/png": "[encoded data removed]",
      "text/plain": [
       "<Figure size 504x432 with 1 Axes>"
      ]
     },
     "metadata": {},
     "output_type": "display_data"
    }
   ],
   "source": [
    "sns.set(style=\"ticks\")\n",
    "\n",
    "# Initialize the figure with a logarithmic x axis\n",
    "f, ax = plt.subplots(figsize=(7, 6))\n",
    "ax.set_xscale(\"linear\")\n",
    "\n",
    "# Load the example planets dataset\n",
    "\n",
    "\n",
    "# Plot the orbital period with horizontal boxes\n",
    "sns.boxplot(x=\"amount_tsh\", y=\"status_group\", data=dummies,\n",
    "            whis=\"range\", palette=\"vlag\")\n",
    "\n",
    "# Add in points to show each observation\n",
    "sns.swarmplot(x=\"distance\", y=\"method\", data=planets,\n",
    "              size=2, color=\".3\", linewidth=0)\n",
    "\n",
    "# Tweak the visual presentation\n",
    "ax.xaxis.grid(True)\n",
    "ax.set(ylabel=\"\")\n",
    "sns.despine(trim=True, left=True)"
   ]
  },
  {
   "cell_type": "code",
   "execution_count": null,
   "metadata": {},
   "outputs": [],
   "source": []
  },
  {
   "cell_type": "code",
   "execution_count": 16,
   "metadata": {},
   "outputs": [
    {
     "ename": "NameError",
     "evalue": "name 'planets' is not defined",
     "output_type": "error",
     "traceback": [
      "\u001b[0;31m---------------------------------------------------------------------------\u001b[0m",
      "\u001b[0;31mNameError\u001b[0m                                 Traceback (most recent call last)",
      "\u001b[0;32m<ipython-input-16-923d0263c09e>\u001b[0m in \u001b[0;36m<module>\u001b[0;34m\u001b[0m\n\u001b[1;32m     16\u001b[0m \u001b[0;34m\u001b[0m\u001b[0m\n\u001b[1;32m     17\u001b[0m \u001b[0;31m# Add in points to show each observation\u001b[0m\u001b[0;34m\u001b[0m\u001b[0;34m\u001b[0m\u001b[0;34m\u001b[0m\u001b[0m\n\u001b[0;32m---> 18\u001b[0;31m sns.swarmplot(x=\"distance\", y=\"method\", data=planets,\n\u001b[0m\u001b[1;32m     19\u001b[0m               size=2, color=\".3\", linewidth=0)\n\u001b[1;32m     20\u001b[0m \u001b[0;34m\u001b[0m\u001b[0m\n",
      "\u001b[0;31mNameError\u001b[0m: name 'planets' is not defined"
     ]
    },
    {
     "data": {
      "image/png": "[encoded data removed]",
      "text/plain": [
       "<Figure size 504x432 with 1 Axes>"
      ]
     },
     "metadata": {},
     "output_type": "display_data"
    }
   ],
   "source": [
    "import seaborn as sns\n",
    "import matplotlib.pyplot as plt\n",
    "\n",
    "sns.set(style=\"ticks\")\n",
    "\n",
    "# Initialize the figure with a logarithmic x axis\n",
    "f, ax = plt.subplots(figsize=(7, 6))\n",
    "ax.set_xscale(\"linear\")\n",
    "\n",
    "# Load the example planets dataset\n",
    "\n",
    "\n",
    "# Plot the orbital period with horizontal boxes\n",
    "sns.boxplot(x=\"years_operational\", y=\"status_group\", data=dummies,\n",
    "            whis=\"range\", palette=\"vlag\")\n",
    "\n",
    "# Add in points to show each observation\n",
    "sns.swarmplot(x=\"distance\", y=\"method\", data=planets,\n",
    "              size=2, color=\".3\", linewidth=0)\n",
    "\n",
    "# Tweak the visual presentation\n",
    "ax.xaxis.grid(True)\n",
    "ax.set(ylabel=\"\")\n",
    "sns.despine(trim=True, left=True)"
   ]
  },
  {
   "cell_type": "code",
   "execution_count": null,
   "metadata": {},
   "outputs": [],
   "source": [
    "dummies.groupby(['status_group','years_operational'])['years_operational'].describe()"
   ]
  },
  {
   "cell_type": "code",
   "execution_count": null,
   "metadata": {},
   "outputs": [],
   "source": []
  },
  {
   "cell_type": "code",
   "execution_count": null,
   "metadata": {},
   "outputs": [],
   "source": []
  },
  {
   "cell_type": "code",
   "execution_count": null,
   "metadata": {},
   "outputs": [],
   "source": []
  }
 ],
 "metadata": {
  "kernelspec": {
   "display_name": "Python 3",
   "language": "python",
   "name": "python3"
  },
  "language_info": {
   "codemirror_mode": {
    "name": "ipython",
    "version": 3
   },
   "file_extension": ".py",
   "mimetype": "text/x-python",
   "name": "python",
   "nbconvert_exporter": "python",
   "pygments_lexer": "ipython3",
   "version": "3.6.9"
  },
  "toc": {
   "base_numbering": 1,
   "nav_menu": {},
   "number_sections": true,
   "sideBar": true,
   "skip_h1_title": false,
   "title_cell": "Table of Contents",
   "title_sidebar": "Contents",
   "toc_cell": false,
   "toc_position": {},
   "toc_section_display": true,
   "toc_window_display": false
  }
 },
 "nbformat": 4,
 "nbformat_minor": 2
}
